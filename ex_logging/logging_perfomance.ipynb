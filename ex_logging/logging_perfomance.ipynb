{
 "cells": [
  {
   "cell_type": "code",
   "execution_count": 1,
   "metadata": {},
   "outputs": [],
   "source": [
    "import logging"
   ]
  },
  {
   "cell_type": "markdown",
   "metadata": {},
   "source": [
    "### 실험\n",
    "- 변수를 로그로 기록할 때 아래 3가지 방법의 퍼포먼스를 비교한다.\n",
    "   1. 문자열 포맷팅(%)\n",
    "   2. f-문자열\n",
    "   3. format 함수\n",
    "- %%timeit 명령을 사용하며 한번의 Loop 당 10만번씩 100번의 반복 실험한다.\n",
    "### 결론\n",
    "- 단순 문자열만을 logging 하는 경우에는 3가지 방식 간에 큰 차이가 없었지만\n",
    "- instance를 로그로 남길 때는 문자열 포맷팅(%)을 사용하는 것이 f-string이나 format 함수 활용보다\n",
    "- 퍼포먼스가 중요한 환경에서는 아쉽지만 포맷팅(%)로 로그를 남기도록 하자\n",
    "\n",
    "### 이유\n",
    "- 로깅 메시지의 형식을 지정하기 위해 f-문자열을 사용하면 로깅 문이 전혀 실행되지 않더라도(예: 로그 수준이 로깅 문의 수준보다 높은 경우) Python이 문자열 형식을 적극적으로 지정해야 하는 반면, 키워드 인수를 사용하면 extra형식 지정이 다음까지 연기됩니다. 필수의.\n",
    "- f-문자열을 사용하게되면 변수가 런타임에 즉시 평가되어 msg문자열로 변환된 후에 logging.info 등의 메서드로 전달되기 때문에 퍼모먼스 지연이 발생한다.\n",
    "\n",
    "### 참고자료\n",
    "- https://docs.astral.sh/ruff/rules/logging-f-string/\n",
    "- https://medium.com/flowe-ita/logging-should-be-lazy-bc6ac9816906\n",
    "- https://medium.com/swlh/why-it-matters-how-you-log-in-python-1a1085851205"
   ]
  },
  {
   "cell_type": "markdown",
   "metadata": {},
   "source": [
    "### 1. 문자열"
   ]
  },
  {
   "cell_type": "code",
   "execution_count": 2,
   "metadata": {},
   "outputs": [],
   "source": [
    "data = \"홍길동\""
   ]
  },
  {
   "cell_type": "code",
   "execution_count": 3,
   "metadata": {},
   "outputs": [
    {
     "name": "stdout",
     "output_type": "stream",
     "text": [
      "274 ns ± 31 ns per loop (mean ± std. dev. of 100 runs, 100,000 loops each)\n"
     ]
    }
   ],
   "source": [
    "%%timeit -r 100 -n 100000\n",
    "logging.info('%s', data)"
   ]
  },
  {
   "cell_type": "code",
   "execution_count": 4,
   "metadata": {},
   "outputs": [
    {
     "name": "stdout",
     "output_type": "stream",
     "text": [
      "323 ns ± 35 ns per loop (mean ± std. dev. of 100 runs, 100,000 loops each)\n"
     ]
    }
   ],
   "source": [
    "%%timeit -r 100 -n 100000\n",
    "logging.info('{}'.format(data))"
   ]
  },
  {
   "cell_type": "code",
   "execution_count": 5,
   "metadata": {},
   "outputs": [
    {
     "name": "stdout",
     "output_type": "stream",
     "text": [
      "271 ns ± 47.7 ns per loop (mean ± std. dev. of 100 runs, 100,000 loops each)\n"
     ]
    }
   ],
   "source": [
    "%%timeit -r 100 -n 100000\n",
    "logging.info(f'{data}')"
   ]
  },
  {
   "cell_type": "markdown",
   "metadata": {},
   "source": [
    "### 2. standard 모듈 ( logging )"
   ]
  },
  {
   "cell_type": "code",
   "execution_count": 6,
   "metadata": {},
   "outputs": [],
   "source": [
    "import math\n",
    "data = math"
   ]
  },
  {
   "cell_type": "code",
   "execution_count": 7,
   "metadata": {},
   "outputs": [
    {
     "name": "stdout",
     "output_type": "stream",
     "text": [
      "295 ns ± 34.3 ns per loop (mean ± std. dev. of 100 runs, 100,000 loops each)\n"
     ]
    }
   ],
   "source": [
    "%%timeit -r 100 -n 100000\n",
    "logging.info('%s', data)"
   ]
  },
  {
   "cell_type": "code",
   "execution_count": 8,
   "metadata": {},
   "outputs": [
    {
     "name": "stdout",
     "output_type": "stream",
     "text": [
      "939 ns ± 77.8 ns per loop (mean ± std. dev. of 100 runs, 100,000 loops each)\n"
     ]
    }
   ],
   "source": [
    "%%timeit -r 100 -n 100000\n",
    "logging.info('{}'.format(data))"
   ]
  },
  {
   "cell_type": "code",
   "execution_count": 9,
   "metadata": {},
   "outputs": [
    {
     "name": "stdout",
     "output_type": "stream",
     "text": [
      "930 ns ± 84.4 ns per loop (mean ± std. dev. of 100 runs, 100,000 loops each)\n"
     ]
    }
   ],
   "source": [
    "%%timeit -r 100 -n 100000\n",
    "logging.info(f'{data}')"
   ]
  },
  {
   "cell_type": "markdown",
   "metadata": {},
   "source": [
    "### 딕셔너리"
   ]
  },
  {
   "cell_type": "code",
   "execution_count": 10,
   "metadata": {},
   "outputs": [],
   "source": [
    "data = {\"name\" : \"홍길동\", \"age\": 30}"
   ]
  },
  {
   "cell_type": "code",
   "execution_count": 11,
   "metadata": {},
   "outputs": [
    {
     "name": "stdout",
     "output_type": "stream",
     "text": [
      "363 ns ± 62 ns per loop (mean ± std. dev. of 100 runs, 100,000 loops each)\n"
     ]
    }
   ],
   "source": [
    "%%timeit -r 100 -n 100000\n",
    "logging.info('%s', data)"
   ]
  },
  {
   "cell_type": "code",
   "execution_count": 12,
   "metadata": {},
   "outputs": [
    {
     "name": "stdout",
     "output_type": "stream",
     "text": [
      "848 ns ± 75.9 ns per loop (mean ± std. dev. of 100 runs, 100,000 loops each)\n"
     ]
    }
   ],
   "source": [
    "%%timeit -r 100 -n 100000\n",
    "logging.info('{}'.format(data))"
   ]
  },
  {
   "cell_type": "code",
   "execution_count": 13,
   "metadata": {},
   "outputs": [
    {
     "name": "stdout",
     "output_type": "stream",
     "text": [
      "858 ns ± 94.6 ns per loop (mean ± std. dev. of 100 runs, 100,000 loops each)\n"
     ]
    }
   ],
   "source": [
    "%%timeit -r 100 -n 100000\n",
    "logging.info(f'{data}')"
   ]
  },
  {
   "cell_type": "markdown",
   "metadata": {},
   "source": [
    "### 4. 커스텀 클래스"
   ]
  },
  {
   "cell_type": "code",
   "execution_count": 14,
   "metadata": {},
   "outputs": [],
   "source": [
    "from dataclasses import dataclass\n",
    "\n",
    "@dataclass\n",
    "class Person:\n",
    "    name: str\n",
    "    age: int \n",
    "        \n",
    "data = Person(name=\"홍길동\", age=30)"
   ]
  },
  {
   "cell_type": "code",
   "execution_count": 15,
   "metadata": {},
   "outputs": [
    {
     "name": "stdout",
     "output_type": "stream",
     "text": [
      "335 ns ± 43.2 ns per loop (mean ± std. dev. of 100 runs, 100,000 loops each)\n"
     ]
    }
   ],
   "source": [
    "%%timeit -r 100 -n 100000\n",
    "logging.info('%s', data)"
   ]
  },
  {
   "cell_type": "code",
   "execution_count": 16,
   "metadata": {},
   "outputs": [
    {
     "name": "stdout",
     "output_type": "stream",
     "text": [
      "1.08 µs ± 175 ns per loop (mean ± std. dev. of 100 runs, 100,000 loops each)\n"
     ]
    }
   ],
   "source": [
    "%%timeit -r 100 -n 100000\n",
    "logging.info('{}'.format(data))"
   ]
  },
  {
   "cell_type": "code",
   "execution_count": 17,
   "metadata": {},
   "outputs": [
    {
     "name": "stdout",
     "output_type": "stream",
     "text": [
      "958 ns ± 118 ns per loop (mean ± std. dev. of 100 runs, 100,000 loops each)\n"
     ]
    }
   ],
   "source": [
    "%%timeit -r 100 -n 100000\n",
    "logging.info(f'{data}')"
   ]
  },
  {
   "cell_type": "markdown",
   "metadata": {},
   "source": []
  }
 ],
 "metadata": {
  "kernelspec": {
   "display_name": "Python 3",
   "language": "python",
   "name": "python3"
  },
  "language_info": {
   "codemirror_mode": {
    "name": "ipython",
    "version": 3
   },
   "file_extension": ".py",
   "mimetype": "text/x-python",
   "name": "python",
   "nbconvert_exporter": "python",
   "pygments_lexer": "ipython3",
   "version": "3.11.7"
  }
 },
 "nbformat": 4,
 "nbformat_minor": 2
}
