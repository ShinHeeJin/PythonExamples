{
 "cells": [
  {
   "cell_type": "code",
   "execution_count": 1,
   "metadata": {},
   "outputs": [
    {
     "data": {
      "text/plain": [
       "<Task pending name='Task-5' coro=<main() running at C:\\Users\\sises\\AppData\\Local\\Temp\\ipykernel_19056\\1150888241.py:5>>"
      ]
     },
     "execution_count": 1,
     "metadata": {},
     "output_type": "execute_result"
    },
    {
     "name": "stdout",
     "output_type": "stream",
     "text": [
      "b'84.3799972'\n",
      "b'21.60'\n",
      "b'84.3799972'\n"
     ]
    }
   ],
   "source": [
    "import asyncio\n",
    "import aiomqtt\n",
    "\n",
    "\n",
    "async def main():\n",
    "    async with aiomqtt.Client(\"test.mosquitto.org\") as client:\n",
    "        await client.subscribe(\"temperature/#\")\n",
    "        async for message in client.messages:\n",
    "            print(message.payload)\n",
    "            \n",
    "loop = asyncio.get_event_loop()\n",
    "loop.create_task(main())\n"
   ]
  },
  {
   "cell_type": "code",
   "execution_count": null,
   "metadata": {},
   "outputs": [],
   "source": []
  }
 ],
 "metadata": {
  "kernelspec": {
   "display_name": "python-ex-0Ia16pgr-py3.11",
   "language": "python",
   "name": "python3"
  },
  "language_info": {
   "codemirror_mode": {
    "name": "ipython",
    "version": 3
   },
   "file_extension": ".py",
   "mimetype": "text/x-python",
   "name": "python",
   "nbconvert_exporter": "python",
   "pygments_lexer": "ipython3",
   "version": "3.11.7"
  }
 },
 "nbformat": 4,
 "nbformat_minor": 2
}
